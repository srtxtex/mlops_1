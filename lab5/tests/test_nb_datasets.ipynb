{
 "cells": [
  {
   "cell_type": "markdown",
   "id": "367fe67db0b8e29b",
   "metadata": {
    "collapsed": false
   },
   "source": [
    "## MLOps. Практическое задание №5"
   ]
  },
  {
   "cell_type": "code",
   "execution_count": 6,
   "id": "initial_id",
   "metadata": {
    "ExecuteTime": {
     "end_time": "2024-04-30T19:06:26.043526847Z",
     "start_time": "2024-04-30T19:06:26.002066003Z"
    },
    "collapsed": true
   },
   "outputs": [
    {
     "name": "stdout",
     "output_type": "stream",
     "text": [
      "Overwriting test_recorded.py\n"
     ]
    }
   ],
   "source": [
    "%%writefile test_recorded.py\n",
    "\n",
    "import numpy as np\n",
    "from sklearn.linear_model import LinearRegression\n",
    "from sklearn.metrics import root_mean_squared_error\n",
    "\n",
    "# Функция для генерации данных\n",
    "def generate_data(n_samples, noise_factor=0.0):\n",
    "    X = np.random.rand(n_samples, 1) * 10\n",
    "    y = 2 * X.squeeze() + 3 + np.random.randn(n_samples) * noise_factor\n",
    "    return X, y\n",
    "\n",
    "\n",
    "# Функция для тестирования модели\n",
    "def check_model(X_test, y_test, model):\n",
    "    y_pred = model.predict(X_test)\n",
    "    return root_mean_squared_error(y_test, y_pred)\n",
    "\n",
    "\n",
    "# Функция для тестирования модели с выводом информации о датасете\n",
    "def test_model_performance():\n",
    "    # Создание модели линейной регрессии\n",
    "    model = LinearRegression()\n",
    "\n",
    "    # Генерация трех датасетов с качественными данными и шумового датасета\n",
    "    quality_datasets = [generate_data(100, noise_factor=0.5) for _ in range(3)]\n",
    "    noisy_dataset = generate_data(100, noise_factor=5)\n",
    "\n",
    "    # Обучение модели на одном из датасетов с качественными данными\n",
    "    model.fit(*quality_datasets[0])\n",
    "\n",
    "    # Вычисление максимального RMSE на качественных данных\n",
    "    max_rmse_quality = max(root_mean_squared_error(y, model.predict(X)) for X, y in quality_datasets)\n",
    "\n",
    "    # Функция для проверки RMSE каждого датасета\n",
    "    def check_rmse(X_test, y_test, dataset_name):\n",
    "        rmse = check_model(X_test, y_test, model)\n",
    "        assert rmse <= max_rmse_quality, f\"Датасет {dataset_name} является шумовым: RMSE: {rmse}\"\n",
    "\n",
    "    # Проверяем RMSE для каждого датасета\n",
    "    for idx, (X, y) in enumerate(quality_datasets, start=1):\n",
    "        check_rmse(X, y, f\"датасет {idx}\")\n",
    "    check_rmse(*noisy_dataset, \"датасет 4\")"
   ]
  },
  {
   "cell_type": "code",
   "execution_count": 7,
   "id": "dd72afe7ade76c81",
   "metadata": {
    "ExecuteTime": {
     "end_time": "2024-04-30T19:06:27.080848278Z",
     "start_time": "2024-04-30T19:06:26.043326685Z"
    },
    "collapsed": false
   },
   "outputs": [
    {
     "name": "stdout",
     "output_type": "stream",
     "text": [
      "\u001b[1m============================= test session starts =============================\u001b[0m\n",
      "platform win32 -- Python 3.9.11, pytest-8.2.2, pluggy-1.5.0\n",
      "rootdir: f:\\projects\\mlops_1\\lab5\\tests\n",
      "plugins: anyio-4.4.0, hydra-core-1.3.2, nbmake-1.5.4\n",
      "collected 1 item\n",
      "\n",
      "test_recorded.py \u001b[31mF\u001b[0m\u001b[31m                                                       [100%]\u001b[0m\n",
      "\n",
      "================================== FAILURES ===================================\n",
      "\u001b[31m\u001b[1m___________________________ test_model_performance ____________________________\u001b[0m\n",
      "\n",
      "    \u001b[0m\u001b[94mdef\u001b[39;49;00m \u001b[92mtest_model_performance\u001b[39;49;00m():\u001b[90m\u001b[39;49;00m\n",
      "        \u001b[90m# Создание модели линейной регрессии\u001b[39;49;00m\u001b[90m\u001b[39;49;00m\n",
      "        model = LinearRegression()\u001b[90m\u001b[39;49;00m\n",
      "    \u001b[90m\u001b[39;49;00m\n",
      "        \u001b[90m# Генерация трех датасетов с качественными данными и шумового датасета\u001b[39;49;00m\u001b[90m\u001b[39;49;00m\n",
      "        quality_datasets = [generate_data(\u001b[94m100\u001b[39;49;00m, noise_factor=\u001b[94m0.5\u001b[39;49;00m) \u001b[94mfor\u001b[39;49;00m _ \u001b[95min\u001b[39;49;00m \u001b[96mrange\u001b[39;49;00m(\u001b[94m3\u001b[39;49;00m)]\u001b[90m\u001b[39;49;00m\n",
      "        noisy_dataset = generate_data(\u001b[94m100\u001b[39;49;00m, noise_factor=\u001b[94m5\u001b[39;49;00m)\u001b[90m\u001b[39;49;00m\n",
      "    \u001b[90m\u001b[39;49;00m\n",
      "        \u001b[90m# Обучение модели на одном из датасетов с качественными данными\u001b[39;49;00m\u001b[90m\u001b[39;49;00m\n",
      "        model.fit(*quality_datasets[\u001b[94m0\u001b[39;49;00m])\u001b[90m\u001b[39;49;00m\n",
      "    \u001b[90m\u001b[39;49;00m\n",
      "        \u001b[90m# Вычисление максимального RMSE на качественных данных\u001b[39;49;00m\u001b[90m\u001b[39;49;00m\n",
      "        max_rmse_quality = \u001b[96mmax\u001b[39;49;00m(root_mean_squared_error(y, model.predict(X)) \u001b[94mfor\u001b[39;49;00m X, y \u001b[95min\u001b[39;49;00m quality_datasets)\u001b[90m\u001b[39;49;00m\n",
      "    \u001b[90m\u001b[39;49;00m\n",
      "        \u001b[90m# Функция для проверки RMSE каждого датасета\u001b[39;49;00m\u001b[90m\u001b[39;49;00m\n",
      "        \u001b[94mdef\u001b[39;49;00m \u001b[92mcheck_rmse\u001b[39;49;00m(X_test, y_test, dataset_name):\u001b[90m\u001b[39;49;00m\n",
      "            rmse = check_model(X_test, y_test, model)\u001b[90m\u001b[39;49;00m\n",
      "            \u001b[94massert\u001b[39;49;00m rmse <= max_rmse_quality, \u001b[33mf\u001b[39;49;00m\u001b[33m\"\u001b[39;49;00m\u001b[33mДатасет \u001b[39;49;00m\u001b[33m{\u001b[39;49;00mdataset_name\u001b[33m}\u001b[39;49;00m\u001b[33m является шумовым: RMSE: \u001b[39;49;00m\u001b[33m{\u001b[39;49;00mrmse\u001b[33m}\u001b[39;49;00m\u001b[33m\"\u001b[39;49;00m\u001b[90m\u001b[39;49;00m\n",
      "    \u001b[90m\u001b[39;49;00m\n",
      "        \u001b[90m# Проверяем RMSE для каждого датасета\u001b[39;49;00m\u001b[90m\u001b[39;49;00m\n",
      "        \u001b[94mfor\u001b[39;49;00m idx, (X, y) \u001b[95min\u001b[39;49;00m \u001b[96menumerate\u001b[39;49;00m(quality_datasets, start=\u001b[94m1\u001b[39;49;00m):\u001b[90m\u001b[39;49;00m\n",
      "            check_rmse(X, y, \u001b[33mf\u001b[39;49;00m\u001b[33m\"\u001b[39;49;00m\u001b[33mдатасет \u001b[39;49;00m\u001b[33m{\u001b[39;49;00midx\u001b[33m}\u001b[39;49;00m\u001b[33m\"\u001b[39;49;00m)\u001b[90m\u001b[39;49;00m\n",
      ">       check_rmse(*noisy_dataset, \u001b[33m\"\u001b[39;49;00m\u001b[33mдатасет 4\u001b[39;49;00m\u001b[33m\"\u001b[39;49;00m)\u001b[90m\u001b[39;49;00m\n",
      "\n",
      "\u001b[1m\u001b[31mtest_recorded.py\u001b[0m:42: \n",
      "_ _ _ _ _ _ _ _ _ _ _ _ _ _ _ _ _ _ _ _ _ _ _ _ _ _ _ _ _ _ _ _ _ _ _ _ _ _ _ _\n",
      "\n",
      "X_test = array([[7.76909363],\n",
      "       [8.14678976],\n",
      "       [8.15473032],\n",
      "       [9.51469523],\n",
      "       [9.72808539],\n",
      "       [2.458...[8.06359563],\n",
      "       [8.50166009],\n",
      "       [9.37961375],\n",
      "       [4.42518565],\n",
      "       [3.07460251],\n",
      "       [5.65223812]])\n",
      "y_test = array([11.69880107, 21.16036913, 22.03276436, 18.26795926, 15.03646708,\n",
      "        5.89156   ,  8.07082047, 19.82289123, ...014845, 19.08736069, 16.74402738, 26.1144857 ,\n",
      "       23.40680376, 30.25977474,  8.2883196 , 12.2542157 , 10.58806886])\n",
      "dataset_name = 'датасет 4'\n",
      "\n",
      "    \u001b[0m\u001b[94mdef\u001b[39;49;00m \u001b[92mcheck_rmse\u001b[39;49;00m(X_test, y_test, dataset_name):\u001b[90m\u001b[39;49;00m\n",
      "        rmse = check_model(X_test, y_test, model)\u001b[90m\u001b[39;49;00m\n",
      ">       \u001b[94massert\u001b[39;49;00m rmse <= max_rmse_quality, \u001b[33mf\u001b[39;49;00m\u001b[33m\"\u001b[39;49;00m\u001b[33mДатасет \u001b[39;49;00m\u001b[33m{\u001b[39;49;00mdataset_name\u001b[33m}\u001b[39;49;00m\u001b[33m является шумовым: RMSE: \u001b[39;49;00m\u001b[33m{\u001b[39;49;00mrmse\u001b[33m}\u001b[39;49;00m\u001b[33m\"\u001b[39;49;00m\u001b[90m\u001b[39;49;00m\n",
      "\u001b[1m\u001b[31mE       AssertionError: Датасет датасет 4 является шумовым: RMSE: 5.573963167545666\u001b[0m\n",
      "\u001b[1m\u001b[31mE       assert 5.573963167545666 <= 0.5401381490864425\u001b[0m\n",
      "\n",
      "\u001b[1m\u001b[31mtest_recorded.py\u001b[0m:37: AssertionError\n",
      "\u001b[36m\u001b[1m=========================== short test summary info ===========================\u001b[0m\n",
      "\u001b[31mFAILED\u001b[0m test_recorded.py::\u001b[1mtest_model_performance\u001b[0m - AssertionError: Датасет датасет 4 является шумовым: RMSE: 5.573963167545666\n",
      "\u001b[31m============================== \u001b[31m\u001b[1m1 failed\u001b[0m\u001b[31m in 2.51s\u001b[0m\u001b[31m ==============================\u001b[0m\n"
     ]
    }
   ],
   "source": [
    "# Запуск теста посредством pytest (сначала запустить предыдущую ячейку!)\n",
    "!pytest test_recorded.py"
   ]
  }
 ],
 "metadata": {
  "kernelspec": {
   "display_name": "Python 3",
   "language": "python",
   "name": "python3"
  },
  "language_info": {
   "codemirror_mode": {
    "name": "ipython",
    "version": 3
   },
   "file_extension": ".py",
   "mimetype": "text/x-python",
   "name": "python",
   "nbconvert_exporter": "python",
   "pygments_lexer": "ipython3",
   "version": "3.9.11"
  }
 },
 "nbformat": 4,
 "nbformat_minor": 5
}
